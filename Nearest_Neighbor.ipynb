{
 "cells": [
  {
   "cell_type": "markdown",
   "metadata": {},
   "source": [
    "# Nearest Neighbor"
   ]
  },
  {
   "cell_type": "code",
   "execution_count": 39,
   "metadata": {
    "id": "FGy9iELatiAE"
   },
   "outputs": [],
   "source": [
    "import numpy as np\n",
    "import pandas as pd\n",
    "import matplotlib.pyplot as plt\n",
    "import math\n",
    "import random\n",
    "from matplotlib.widgets import Cursor\n",
    "%matplotlib qt"
   ]
  },
  {
   "cell_type": "code",
   "execution_count": 2,
   "metadata": {
    "colab": {
     "base_uri": "https://localhost:8080/",
     "height": 520
    },
    "id": "NZmZKmx7wFyL",
    "outputId": "2118bd2f-7583-4412-f057-6c3d9249202b"
   },
   "outputs": [],
   "source": [
    "# df = pd.read_excel(\"15-Points.xlsx\")\n",
    "# df['test']= np.array(range(1,16))\n",
    "# df"
   ]
  },
  {
   "cell_type": "code",
   "execution_count": 13,
   "metadata": {},
   "outputs": [],
   "source": [
    "def input_points ():\n",
    "    points = []\n",
    "    \n",
    "    # display a plot and wait for the user to click on num_points points\n",
    "    fig, ax = plt.subplots()\n",
    "    plt.title('Input Points')\n",
    "    plt.xlim(0, 10)\n",
    "    plt.ylim(0, 10)\n",
    "    plt.show()\n",
    "\n",
    "    cursor = Cursor(ax, horizOn=True, vertOn=True, useblit=True, color='black', linewidth=1)\n",
    "\n",
    "    # take input fro\n",
    "    while True:\n",
    "        # get the first tuple (first point)\n",
    "        point = plt.ginput(1)\n",
    "        if point:\n",
    "            point=point[0]\n",
    "        else:\n",
    "            break\n",
    "\n",
    "        points.append(point)\n",
    "        plt.plot(point[0], point[1], 'bo')\n",
    "        plt.draw()\n",
    "        \n",
    "#     plt.close()\n",
    "    \n",
    "    return points"
   ]
  },
  {
   "cell_type": "code",
   "execution_count": 14,
   "metadata": {},
   "outputs": [],
   "source": [
    "def plot_tsp(data, Best_solution,Best_cost,title):\n",
    "#     fig, ax = plt.subplots()\n",
    "    x = data['x']\n",
    "    y = data['y']\n",
    "    plt.scatter(x, y, color = 'b')\n",
    "    plt.title(title)\n",
    "    x_init, y_init = data[data['City']==Best_solution[0]]['x'], data[data['City']==Best_solution[0]]['y']\n",
    "    plt.scatter(x_init, y_init, color = 'red')\n",
    "    plt.text(x_init - 0.5 , y_init + 0.6 , \"Start\" , color = 'm')\n",
    "    \n",
    "\n",
    "    x = []\n",
    "    y = []\n",
    "    x.append(x_init)\n",
    "    y.append(y_init)\n",
    "    TSP_plot = plt.plot(x, y, color = 'r')\n",
    "\n",
    "    for i, city in enumerate(Best_solution[0:]):\n",
    "        city_x, city_y = data[data['City']==Best_solution[i]]['x'], data[data['City']==Best_solution[i]]['y']\n",
    "        x.append(city_x)\n",
    "        y.append(city_y)  \n",
    "        plt.setp(TSP_plot, xdata = x, ydata = y)\n",
    "        plt.pause(0.3)\n",
    "\n",
    "    x.append(x_init)\n",
    "    y.append(y_init)\n",
    "    plt.setp(TSP_plot, xdata = x, ydata = y)\n",
    "    plt.xlabel(f\"Best_cost: {round(Best_cost,5)}\" ,color = 'm')\n",
    "    plt.pause(0.3)\n",
    "#     plt.text(0.5 , 0.5 , f\"Best_cost: {round(Best_cost,5)}\" , color = 'm')\n",
    "#     plt.xlabel(f\"Best_cost: {round(Best_cost,5)}\" ,color = 'm')\n",
    "    \n",
    "    "
   ]
  },
  {
   "cell_type": "code",
   "execution_count": 15,
   "metadata": {
    "id": "1CRkyEFezklQ"
   },
   "outputs": [],
   "source": [
    "def euclidean_distance(df,c1,c2):\n",
    "    x1 = df.loc[df['City'] == c1, 'x'].iloc[0]\n",
    "    y1 = df.loc[df['City'] == c1, 'y'].iloc[0]\n",
    "    x2 = df.loc[df['City'] == c2, 'x'].iloc[0]\n",
    "    y2 = df.loc[df['City'] == c2, 'y'].iloc[0]\n",
    "    return math.sqrt((x2 - x1) ** 2 + (y2 - y1) ** 2)"
   ]
  },
  {
   "cell_type": "code",
   "execution_count": 16,
   "metadata": {},
   "outputs": [],
   "source": [
    "def distance(df):\n",
    "    count = len(df)\n",
    "    dist_arr = np.zeros((count,count))\n",
    "    for c1 in range(0,count-1):\n",
    "        for c2 in range(c1+1,count):\n",
    "            dist_arr[c1,c2]= euclidean_distance(df,c1,c2)\n",
    "            dist_arr[c2,c1] =dist_arr[c1,c2]\n",
    "\n",
    "        dist_arr[c1,c1] = np.inf\n",
    "    dist_arr[c1+1,c1+1] = np.inf\n",
    "\n",
    "    return dist_arr"
   ]
  },
  {
   "cell_type": "code",
   "execution_count": 17,
   "metadata": {},
   "outputs": [],
   "source": [
    "#########################  Nearest Neighbor  ##################################"
   ]
  },
  {
   "cell_type": "code",
   "execution_count": 36,
   "metadata": {},
   "outputs": [],
   "source": [
    "def Nearest():\n",
    "    \n",
    "    points = input_points()\n",
    "    data = pd.DataFrame(points, columns = ['x', 'y'])\n",
    "    data['City'] = np.random.permutation(len(points))\n",
    "    \n",
    "    dist_arr = distance(data)\n",
    "    count = len(data)\n",
    "    start = random.randint(0, count-1)\n",
    "    Best_cost=0\n",
    "    Best_Path=[start]\n",
    "    Path_dist=[]\n",
    "    \n",
    "    for c in range(count-1):\n",
    "        city =Best_Path[-1]\n",
    "        dist = dist_arr[city].min()\n",
    "        Best_cost+=dist\n",
    "        new_city = dist_arr[city].argmin()\n",
    "        dist_arr[city,:]= np.inf\n",
    "        dist_arr[:,city]= np.inf\n",
    "\n",
    "        Best_Path.append(new_city)\n",
    "        Path_dist.append(dist)\n",
    "\n",
    "\n",
    "\n",
    "    print(\"Best Path : \",Best_Path)\n",
    "    print(\"Path dist : \", Path_dist)\n",
    "    print(\"Best cost : \",Best_cost)\n",
    "    \n",
    "    plot_tsp(data, Best_Path,Best_cost,'Nearest Neighbour')\n",
    "    \n",
    "    return Best_Path, Path_dist , Best_cost\n",
    "    "
   ]
  },
  {
   "cell_type": "code",
   "execution_count": 46,
   "metadata": {},
   "outputs": [
    {
     "name": "stdout",
     "output_type": "stream",
     "text": [
      "Best Path :  [2, 15, 12, 6, 0, 10, 8, 11, 7, 14, 4, 1, 13, 5, 9, 3]\n",
      "Path dist :  [1.4068425506510907, 1.2958088135183559, 1.2927807537476408, 1.0898710371190805, 1.590022186910412, 2.218402006155858, 2.7054847681294945, 2.8223211799634074, 1.5328605646327293, 1.8870389475096054, 1.4610389610389607, 0.0, 2.4777085024795285, 2.708772094145652, 1.291456747489195]\n",
      "Best cost :  25.780409113491007\n"
     ]
    }
   ],
   "source": [
    "#Nearest Neighbour parameters\n",
    "# start =0\n",
    "Best_Path, Path_dist,Best_cost= Nearest()"
   ]
  },
  {
   "cell_type": "code",
   "execution_count": 96,
   "metadata": {},
   "outputs": [
    {
     "name": "stdout",
     "output_type": "stream",
     "text": [
      "\n"
     ]
    }
   ],
   "source": [
    "print()"
   ]
  },
  {
   "cell_type": "code",
   "execution_count": 33,
   "metadata": {},
   "outputs": [
    {
     "data": {
      "text/plain": [
       "8"
      ]
     },
     "execution_count": 33,
     "metadata": {},
     "output_type": "execute_result"
    }
   ],
   "source": [
    "random.randint(3, 9)"
   ]
  },
  {
   "cell_type": "code",
   "execution_count": null,
   "metadata": {},
   "outputs": [],
   "source": []
  }
 ],
 "metadata": {
  "colab": {
   "provenance": []
  },
  "kernelspec": {
   "display_name": "Python 3 (ipykernel)",
   "language": "python",
   "name": "python3"
  },
  "language_info": {
   "codemirror_mode": {
    "name": "ipython",
    "version": 3
   },
   "file_extension": ".py",
   "mimetype": "text/x-python",
   "name": "python",
   "nbconvert_exporter": "python",
   "pygments_lexer": "ipython3",
   "version": "3.9.13"
  }
 },
 "nbformat": 4,
 "nbformat_minor": 1
}
