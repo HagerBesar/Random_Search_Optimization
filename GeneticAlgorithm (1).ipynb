{
 "cells": [
  {
   "cell_type": "markdown",
   "metadata": {},
   "source": [
    "# Genetic Algorithm"
   ]
  },
  {
   "cell_type": "code",
   "execution_count": null,
   "metadata": {
    "id": "FGy9iELatiAE"
   },
   "outputs": [],
   "source": [
    "import numpy as np\n",
    "import pandas as pd\n",
    "import matplotlib.pyplot as plt\n",
    "import math\n",
    "import random\n",
    "from matplotlib.widgets import Cursor\n",
    "%matplotlib qt"
   ]
  },
  {
   "cell_type": "code",
   "execution_count": null,
   "metadata": {},
   "outputs": [],
   "source": [
    "np.array(range(1,16))"
   ]
  },
  {
   "cell_type": "code",
   "execution_count": null,
   "metadata": {
    "colab": {
     "base_uri": "https://localhost:8080/",
     "height": 520
    },
    "id": "NZmZKmx7wFyL",
    "outputId": "2118bd2f-7583-4412-f057-6c3d9249202b"
   },
   "outputs": [],
   "source": [
    "# df = pd.read_excel(\"15-Points.xlsx\")\n",
    "# df['test']= np.array(range(1,16))\n",
    "# df"
   ]
  },
  {
   "cell_type": "code",
   "execution_count": null,
   "metadata": {},
   "outputs": [],
   "source": [
    "def input_points ():\n",
    "    points = []\n",
    "\n",
    "    # display a plot and wait for the user to click on num_points points\n",
    "    fig, ax = plt.subplots()\n",
    "    plt.xlim(0, 10)\n",
    "    plt.ylim(0, 10)\n",
    "    plt.show()\n",
    "\n",
    "    cursor = Cursor(ax, horizOn=True, vertOn=True, useblit=True, color='black', linewidth=1)\n",
    "\n",
    "    # take input fro\n",
    "    while True:\n",
    "        # get the first tuple (first point)\n",
    "        point = plt.ginput(1)\n",
    "        if point:\n",
    "            point=point[0]\n",
    "        else:\n",
    "            break\n",
    "\n",
    "        points.append(point)\n",
    "        plt.plot(point[0], point[1], 'bo')\n",
    "        plt.draw()\n",
    "    return points"
   ]
  },
  {
   "cell_type": "code",
   "execution_count": null,
   "metadata": {},
   "outputs": [],
   "source": [
    "def plot_tsp(data, Best_solution,Best_cost):\n",
    "    x = data['x']\n",
    "    y = data['y']\n",
    "    plt.scatter(x, y, color = 'b')\n",
    "    plt.title('Genetic Algorithm')\n",
    "    x_init, y_init = data[data['City']==Best_solution[0]]['x'], data[data['City']==Best_solution[0]]['y']\n",
    "    plt.scatter(x_init, y_init, color = 'red')\n",
    "    plt.text(x_init - 0.5 , y_init + 0.6 , \"Start\" , color = 'm')\n",
    "\n",
    "    x = []\n",
    "    y = []\n",
    "    x.append(x_init)\n",
    "    y.append(y_init)\n",
    "    TSP_plot = plt.plot(x, y, color = 'r')\n",
    "\n",
    "    for i, city in enumerate(Best_solution[0:]):\n",
    "        city_x, city_y = data[data['City']==Best_solution[i]]['x'], data[data['City']==Best_solution[i]]['y']\n",
    "        x.append(city_x)\n",
    "        y.append(city_y)  \n",
    "        plt.setp(TSP_plot, xdata = x, ydata = y)\n",
    "        plt.pause(0.3)\n",
    "\n",
    "    x.append(x_init)\n",
    "    y.append(y_init)\n",
    "    plt.setp(TSP_plot, xdata = x, ydata = y)\n",
    "    \n",
    "    plt.pause(0.3)\n",
    "#     plt.text(0.5 , 0.6 , f\"Best_cost: {Best_cost}\" , color = 'm')\n",
    "    "
   ]
  },
  {
   "cell_type": "code",
   "execution_count": null,
   "metadata": {
    "id": "1CRkyEFezklQ"
   },
   "outputs": [],
   "source": [
    "def euclidean_distance(df,c1,c2):\n",
    "    x1 = df.loc[df['City'] == c1, 'x'].iloc[0]\n",
    "    y1 = df.loc[df['City'] == c1, 'y'].iloc[0]\n",
    "    x2 = df.loc[df['City'] == c2, 'x'].iloc[0]\n",
    "    y2 = df.loc[df['City'] == c2, 'y'].iloc[0]\n",
    "    return math.sqrt((x2 - x1) ** 2 + (y2 - y1) ** 2)"
   ]
  },
  {
   "cell_type": "code",
   "execution_count": null,
   "metadata": {},
   "outputs": [],
   "source": [
    "def distance(df):\n",
    "    count = len(df)\n",
    "    dist_arr = np.zeros((count,count))\n",
    "    for c1 in range(0,count-1):\n",
    "        for c2 in range(c1+1,count):\n",
    "            dist_arr[c1,c2]= euclidean_distance(df,c1,c2)\n",
    "            dist_arr[c2,c1] =dist_arr[c1,c2]\n",
    "\n",
    "        dist_arr[c1,c1] = np.inf\n",
    "    dist_arr[c1+1,c1+1] = np.inf\n",
    "\n",
    "    return dist_arr"
   ]
  },
  {
   "cell_type": "code",
   "execution_count": null,
   "metadata": {
    "id": "rlQTjjzQqtca"
   },
   "outputs": [],
   "source": [
    "class Chromosome :\n",
    "    def __init__(self,chrom):\n",
    "        self.chrom = chrom\n",
    "        self.distList = []\n",
    "        self.cost = None\n",
    "\n",
    "    def evaluateFitness(self,dist_arr) :\n",
    "        self.distList = []\n",
    "        for i in range(0,len(self.chrom)-1) :\n",
    "            dist = dist_arr[self.chrom[i]][self.chrom[i+1]]\n",
    "            self.distList.append(dist)\n",
    "        self.cost = sum(self.distList)\n",
    "\n",
    "\n"
   ]
  },
  {
   "cell_type": "code",
   "execution_count": null,
   "metadata": {
    "id": "GqgRe1HLHRbC"
   },
   "outputs": [],
   "source": [
    "#uniform Crossover\n",
    "def Crossover(crossover_list,count,dist_arr):\n",
    "    uniform = random.choices([0,1], k=count)\n",
    "    newgen = [None]*len(crossover_list)\n",
    "    for c in range(0,len(crossover_list),2):\n",
    "        newgen[c]=Chromosome(crossover_list[c].chrom)\n",
    "        newgen[c+1]=Chromosome(crossover_list[c].chrom)\n",
    "        for i in range(len(uniform)) :\n",
    "            if uniform[i] == 1:\n",
    "                newgen[c].chrom[i],newgen[c+1].chrom[i] = newgen[c+1].chrom[i] , newgen[c].chrom[i]\n",
    "        newgen[c].evaluateFitness(dist_arr)\n",
    "        newgen[c+1].evaluateFitness(dist_arr)\n",
    "\n",
    "    return newgen\n",
    "\n",
    "\n",
    "\n",
    "# Mutation\n",
    "\n",
    "def Swapping(chrom):\n",
    "    sw_ndx = random.sample(range(len(chrom)), k=2)\n",
    "    newChrom= chrom.copy()\n",
    "    newChrom[sw_ndx[0]],newChrom[sw_ndx[1]] = newChrom[sw_ndx[1]] ,newChrom[sw_ndx[0]]\n",
    "    return newChrom\n",
    "\n",
    "def Scramble(chrom):\n",
    "    left = random.randint(0, len(chrom)-2)\n",
    "    right = random.randint(left+1, len(chrom))\n",
    "    newChrom= chrom.copy()\n",
    "    new = random.sample(newChrom[left : right], len(newChrom[left : right]))\n",
    "    newChrom = np.array(newChrom)\n",
    "    newChrom[left : right] = new\n",
    "    newChrom= newChrom.tolist()\n",
    "    return newChrom\n",
    "\n",
    "def Inversion(chrom):\n",
    "    left = random.randint(0, len(chrom)-2)\n",
    "    right = random.randint(left+1, len(chrom))\n",
    "    newChrom= chrom.copy()\n",
    "    new = newChrom[left : right]\n",
    "    new.reverse()\n",
    "    newChrom = np.array(newChrom)\n",
    "    newChrom[left : right] = new\n",
    "    newChrom= newChrom.tolist()\n",
    "    return newChrom\n",
    "\n",
    "def Mutation (M_list,dist_arr):\n",
    "    newgen = [None]*len(M_list)\n",
    "    for i in range(len(M_list)) :\n",
    "        newgen[i] = Chromosome(M_list[i].chrom.copy())\n",
    "        r = random.randint(0, 3)\n",
    "        if r == 0:\n",
    "            newgen[i].chrom = Swapping(newgen[i].chrom).copy()\n",
    "        elif r == 1:\n",
    "            newgen[i].chrom = Scramble(newgen[i].chrom).copy()\n",
    "        else:\n",
    "            newgen[i].chrom = Inversion(newgen[i].chrom).copy()\n",
    "\n",
    "        newgen[i].evaluateFitness(dist_arr)\n",
    "\n",
    "    return newgen\n",
    "\n"
   ]
  },
  {
   "cell_type": "code",
   "execution_count": null,
   "metadata": {
    "colab": {
     "base_uri": "https://localhost:8080/"
    },
    "id": "BYutCV3zjfZ3",
    "outputId": "f6795ed4-97f8-4cd1-f317-9bac7a6c21cd"
   },
   "outputs": [],
   "source": [
    "Inversion([3,5,6,7,8,4])"
   ]
  },
  {
   "cell_type": "code",
   "execution_count": null,
   "metadata": {},
   "outputs": [],
   "source": [
    "#########################  Genetic Algorithm ##################################"
   ]
  },
  {
   "cell_type": "code",
   "execution_count": null,
   "metadata": {},
   "outputs": [],
   "source": [
    "def Genetic(pop_size, gen_count, elit, cross_num , mut_num):\n",
    "    \n",
    "    points = input_points()\n",
    "    data = pd.DataFrame(points, columns = ['x', 'y'])\n",
    "    data['City'] = np.random.permutation(len(points))\n",
    "#     data = pd.read_excel(\"15-Points.xlsx\")\n",
    "    #distance\n",
    "    dist_arr = distance(data)\n",
    "    count = len(data)\n",
    "    \n",
    "    #Initial Population \n",
    "    city_n=[i for i in range(0,count)]\n",
    "    pop_list = [None]*pop_size\n",
    "    for p in range(pop_size): #Generate Chromosome \n",
    "        chrom = random.sample(city_n, k=len(data))\n",
    "        pop_list[p] = Chromosome(chrom)\n",
    "        pop_list[p].evaluateFitness(dist_arr)\n",
    "    #sort\n",
    "    pop_list = sorted(pop_list, key=lambda d: d.cost)\n",
    "    \n",
    "    # Initialization Generations\n",
    "    for i in range(gen_count):\n",
    "        next_pop = []\n",
    "\n",
    "        #select elitism\n",
    "        elit_list = pop_list[0:elit]\n",
    "\n",
    "        # Perform crossover\n",
    "        select_crossover = random.sample(pop_list, k=cross_num)\n",
    "        crossover_list = Crossover(select_crossover,count,dist_arr).copy()\n",
    "\n",
    "        # Perform mutation\n",
    "        select_Mutation = random.sample(crossover_list.copy(), k=mut_num)\n",
    "        Mutation_list = Mutation(select_Mutation,dist_arr).copy()\n",
    "\n",
    "        # select Population size\n",
    "        next_pop =  elit_list + pop_list + crossover_list + Mutation_list\n",
    "        next_pop = sorted(next_pop, key=lambda d: d.cost )\n",
    "\n",
    "        pop_list = next_pop[0:pop_size]\n",
    "\n",
    "    # Best solution\n",
    "#     print(\"Best Path : \",pop_list[0].chrom)\n",
    "#     print(\"Path dist : \", np.round(pop_list[0].distList , 3).tolist())\n",
    "#     print(\"Best cost : \",pop_list[0].cost)\n",
    "    \n",
    "    Best_Path = pop_list[0].chrom.copy()\n",
    "    Path_dist = np.round(pop_list[0].distList.copy() , 3).tolist()\n",
    "    Best_cost = pop_list[0].cost\n",
    "    \n",
    "    plot_tsp(data, Best_Path,Best_cost)\n",
    "    \n",
    "    \n",
    "    return Best_Path, Path_dist,Best_cost"
   ]
  },
  {
   "cell_type": "code",
   "execution_count": 70,
   "metadata": {
    "id": "YzpjFfROwHY5"
   },
   "outputs": [],
   "source": [
    "#Genetic algorithm parameters\n",
    "pop_size= 100 \n",
    "gen_count=200 \n",
    "elit = 3\n",
    "cross_num = 30\n",
    "mut_num = 8\n",
    "\n",
    "Best_Path, Path_dist,Best_cost= Genetic(pop_size, gen_count, elit, cross_num , mut_num)"
   ]
  },
  {
   "cell_type": "code",
   "execution_count": null,
   "metadata": {},
   "outputs": [],
   "source": []
  },
  {
   "cell_type": "code",
   "execution_count": null,
   "metadata": {},
   "outputs": [],
   "source": []
  },
  {
   "cell_type": "code",
   "execution_count": null,
   "metadata": {},
   "outputs": [],
   "source": []
  },
  {
   "cell_type": "code",
   "execution_count": null,
   "metadata": {},
   "outputs": [],
   "source": []
  },
  {
   "cell_type": "code",
   "execution_count": null,
   "metadata": {},
   "outputs": [],
   "source": []
  },
  {
   "cell_type": "code",
   "execution_count": null,
   "metadata": {},
   "outputs": [],
   "source": []
  },
  {
   "cell_type": "code",
   "execution_count": null,
   "metadata": {},
   "outputs": [],
   "source": [
    "#########################  test code  ##################################"
   ]
  },
  {
   "cell_type": "code",
   "execution_count": null,
   "metadata": {
    "colab": {
     "base_uri": "https://localhost:8080/"
    },
    "id": "GZoRWT3Y67zu",
    "outputId": "15220724-50cc-42c4-c9fa-3f3a79cb7119"
   },
   "outputs": [],
   "source": [
    "pop_size= 50 \n",
    "gen_count=150 \n",
    "elit = 3\n",
    "cross_num = 30\n",
    "mut_num = 8\n",
    "\n",
    "points = input_points()\n",
    "count = len(points)\n",
    "df = pd.DataFrame(points, columns = ['x', 'y'])\n",
    "\n",
    "df['City'] = np.array(range(0,count))\n",
    "# df = pd.read_excel(\"15-Points.xlsx\")\n",
    "city_n=[i for i in range(0,count)]\n",
    "\n",
    "#distance\n",
    "dist_arr = distance(df)\n",
    "\n",
    "#Initial Population  \n",
    "pop_list = [None]*pop_size\n",
    "for p in range(pop_size):\n",
    "    #Generate Chromosome \n",
    "    chrom = random.sample(city_n, k=count)\n",
    "    pop_list[p] = Chromosome(chrom)\n",
    "    pop_list[p].evaluateFitness(dist_arr)\n",
    "    # print(pop_list[p].cost)\n",
    "\n",
    "\n",
    "pop_list = sorted(pop_list, key=lambda d: d.cost )\n",
    "\n",
    "\n",
    "# Initialization Generations\n",
    "for i in range(gen_count):\n",
    "    next_pop = []\n",
    "\n",
    "    #select elitism\n",
    "    elit_list = pop_list[0:elit]\n",
    "\n",
    "    # Perform crossover\n",
    "    select_crossover = random.sample(pop_list, k=cross_num)\n",
    "    crossover_list = Crossover(select_crossover,count,dist_arr).copy()\n",
    "\n",
    "    # Perform mutation\n",
    "    select_Mutation = random.sample(crossover_list.copy(), k=mut_num)\n",
    "    Mutation_list = Mutation(select_Mutation,dist_arr).copy()\n",
    "    \n",
    "    # select Population size\n",
    "    next_pop =  elit_list + pop_list + crossover_list + Mutation_list\n",
    "    next_pop = sorted(next_pop, key=lambda d: d.cost )\n",
    "\n",
    "    # next_pop = list(set(next_pop))\n",
    "    # print(next_pop[0].cost)\n",
    "    pop_list = next_pop[0:pop_size]\n",
    "\n",
    "\n",
    "print(\"Best Path : \",pop_list[0].chrom)\n",
    "print(\"Path dist : \", np.round(pop_list[0].distList , 3).tolist())\n",
    "print(\"Best cost : \",pop_list[0].cost)\n",
    "Best_Path = pop_list[0].chrom.copy()\n",
    "\n",
    "plot_tsp(df, Best_Path)\n"
   ]
  },
  {
   "cell_type": "code",
   "execution_count": null,
   "metadata": {},
   "outputs": [],
   "source": []
  },
  {
   "cell_type": "code",
   "execution_count": null,
   "metadata": {},
   "outputs": [],
   "source": []
  },
  {
   "cell_type": "code",
   "execution_count": null,
   "metadata": {},
   "outputs": [],
   "source": []
  },
  {
   "cell_type": "code",
   "execution_count": null,
   "metadata": {},
   "outputs": [],
   "source": []
  }
 ],
 "metadata": {
  "colab": {
   "provenance": []
  },
  "kernelspec": {
   "display_name": "Python 3 (ipykernel)",
   "language": "python",
   "name": "python3"
  },
  "language_info": {
   "codemirror_mode": {
    "name": "ipython",
    "version": 3
   },
   "file_extension": ".py",
   "mimetype": "text/x-python",
   "name": "python",
   "nbconvert_exporter": "python",
   "pygments_lexer": "ipython3",
   "version": "3.9.13"
  }
 },
 "nbformat": 4,
 "nbformat_minor": 1
}
