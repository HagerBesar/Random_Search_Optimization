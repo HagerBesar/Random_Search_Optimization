{
 "cells": [
  {
   "cell_type": "markdown",
   "metadata": {},
   "source": [
    "# Particle swarm optimization"
   ]
  },
  {
   "cell_type": "code",
   "execution_count": 65,
   "metadata": {
    "id": "kSRuKxDe6Bf6"
   },
   "outputs": [],
   "source": [
    "import numpy as np\n",
    "import matplotlib.pyplot as plt\n",
    "from os import X_OK\n",
    "from numpy.random.mtrand import rand\n",
    "%matplotlib qt"
   ]
  },
  {
   "cell_type": "code",
   "execution_count": 66,
   "metadata": {
    "colab": {
     "base_uri": "https://localhost:8080/"
    },
    "id": "a7Edg72x6BdD",
    "outputId": "b48ca16b-97e1-4ed7-e7eb-9163a820559e"
   },
   "outputs": [
    {
     "data": {
      "text/plain": [
       "2000"
      ]
     },
     "execution_count": 66,
     "metadata": {},
     "output_type": "execute_result"
    }
   ],
   "source": [
    "X = np.linspace(-5 , 5 ,2000).reshape(-1,1)\n",
    "y = lambda x : -2*x  + 5 + np.random.rand()*0.7\n",
    "\n",
    "m=len(X)\n",
    "m\n"
   ]
  },
  {
   "cell_type": "code",
   "execution_count": 67,
   "metadata": {
    "colab": {
     "base_uri": "https://localhost:8080/"
    },
    "id": "faYB96IpKStr",
    "outputId": "8e11f028-65a2-4cfe-ea41-4640705071d9"
   },
   "outputs": [
    {
     "data": {
      "text/plain": [
       "array([[15.48219133],\n",
       "       [15.47218632],\n",
       "       [15.46218132],\n",
       "       ...,\n",
       "       [-4.49779867],\n",
       "       [-4.50780367],\n",
       "       [-4.51780867]])"
      ]
     },
     "execution_count": 67,
     "metadata": {},
     "output_type": "execute_result"
    }
   ],
   "source": [
    "Y = y(X).reshape(-1,1)\n",
    "Y"
   ]
  },
  {
   "cell_type": "code",
   "execution_count": 68,
   "metadata": {
    "colab": {
     "base_uri": "https://localhost:8080/",
     "height": 447
    },
    "id": "4pKE9jtrOm2y",
    "outputId": "1ed210cb-c5f4-4562-f745-31de6e2d8cf4"
   },
   "outputs": [
    {
     "data": {
      "text/plain": [
       "<matplotlib.collections.PathCollection at 0x1ee6c213af0>"
      ]
     },
     "execution_count": 68,
     "metadata": {},
     "output_type": "execute_result"
    }
   ],
   "source": [
    "plt.scatter(X,Y)"
   ]
  },
  {
   "cell_type": "code",
   "execution_count": null,
   "metadata": {
    "id": "neBusKdV1xO-"
   },
   "outputs": [],
   "source": [
    "class Particle :\n",
    "    def __init__(self,varSize , bounds , J,):\n",
    "        self.position = np.random.uniform(bounds[:,0],bounds[:,1]).reshape(varSize)\n",
    "        self.cost = J(self.position)\n",
    "        self.velosity = np.zeros(varSize)\n",
    "        self.bestCost = self.cost\n",
    "        self.bestPosition = self.position\n",
    "\n",
    "\n",
    "class GlobalParticale:\n",
    "    def __init__(self):\n",
    "        self.GCost = float('inf')\n",
    "        self.Gposition = []\n",
    "\n"
   ]
  },
  {
   "cell_type": "code",
   "execution_count": 62,
   "metadata": {
    "colab": {
     "base_uri": "https://localhost:8080/"
    },
    "id": "XPp5nwCG5DIC",
    "outputId": "0a1e39ef-3fce-45f6-8e7d-0914d16b470d"
   },
   "outputs": [
    {
     "name": "stdout",
     "output_type": "stream",
     "text": [
      "Best Position :\n",
      " [[-1.99884233]\n",
      " [ 5.58755617]]\n"
     ]
    }
   ],
   "source": [
    "#Problem Def\n",
    "J = lambda x: sum(((x[0]*X + x[1])-Y) ** 2)/m\n",
    "h_x = lambda x: x[0]*X + x[1]\n",
    "nVar =2\n",
    "varSize = np.array([nVar,1])\n",
    "varMax = [-120,-100]\n",
    "varMin = [120,100]\n",
    "bounds = np.column_stack((varMin,varMax))\n",
    "\n",
    "\n",
    "#Prametars of PCD\n",
    "w=1\n",
    "c1 = 2\n",
    "c2 = 2\n",
    "nPop = 50\n",
    "MaxIT = 100\n",
    "damp = 0.8\n",
    "\n",
    "h_x_list=[]\n",
    "\n",
    "# Initialization\n",
    "\n",
    "particales = [None]*nPop\n",
    "GlobalBest = GlobalParticale()\n",
    "for i in range(nPop):\n",
    "    particales[i] = Particle(varSize , bounds , J) \n",
    "\n",
    "    if (particales[i].cost < GlobalBest.GCost ).any():\n",
    "        GlobalBest.GCost = particales[i].cost\n",
    "        GlobalBest.Gposition = particales[i].position\n",
    "\n",
    "\n",
    "for it in range(MaxIT) : \n",
    "    for i in range(nPop) :\n",
    "        particales[i].velosity =damp * w * (particales[i].velosity) + np.random.rand()* c1 * (particales[i].bestPosition -particales[i].position ) \\\n",
    "                                    + np.random.rand()* c2 * (GlobalBest.Gposition - particales[i].position )\n",
    "\n",
    "        particales[i].position = particales[i].position + particales[i].velosity\n",
    "\n",
    "        # particales[i].position = np.max(bounds[:,0],particales[i].position)\n",
    "#         for j in range(2):\n",
    "#                 particales[i].position[j] = max(particales[i].position[j], varMin[j])\n",
    "#                 particales[i].position[j] = min(particales[i].position[j], varMax[j])\n",
    "\n",
    "        particales[i].cost = J(particales[i].position)\n",
    "\n",
    "        if (particales[i].cost < particales[i].bestCost).any() :\n",
    "            particales[i].bestCost= particales[i].cost\n",
    "            particales[i].bestPosition = particales[i].position\n",
    "            \n",
    "\n",
    "            if  (particales[i].cost < GlobalBest.GCost).any() :\n",
    "                GlobalBest.GCost = particales[i].cost\n",
    "                GlobalBest.Gposition = particales[i].position\n",
    "\n",
    "    h = h_x(GlobalBest.Gposition)\n",
    "    h_x_list.append(h)\n",
    "\n",
    "print(\"Best Position :\\n\" , GlobalBest.Gposition)"
   ]
  },
  {
   "cell_type": "code",
   "execution_count": 69,
   "metadata": {
    "colab": {
     "base_uri": "https://localhost:8080/",
     "height": 449
    },
    "id": "u7aFoyPLR86B",
    "outputId": "b25b0529-a3e5-4415-8eda-90918c88d59d"
   },
   "outputs": [],
   "source": [
    "fig, ax = plt.subplots()\n",
    "plt.scatter(X,Y,label=\"y_actual\")\n",
    "plt.title('Particle swarm (Regression line)')\n",
    "plt.xlabel(\"X\")\n",
    "plt.ylabel(\"y\")\n",
    "plt.legend()\n",
    "\n",
    "line_plot = plt.plot(X, h_x_list[0], color = 'r')\n",
    "for h in h_x_list:\n",
    "    plt.setp(line_plot, xdata = X, ydata = h)\n",
    "    plt.pause(0.8)\n",
    "\n"
   ]
  },
  {
   "cell_type": "code",
   "execution_count": null,
   "metadata": {},
   "outputs": [],
   "source": []
  },
  {
   "cell_type": "code",
   "execution_count": null,
   "metadata": {},
   "outputs": [],
   "source": []
  },
  {
   "cell_type": "code",
   "execution_count": null,
   "metadata": {},
   "outputs": [],
   "source": []
  }
 ],
 "metadata": {
  "colab": {
   "provenance": []
  },
  "kernelspec": {
   "display_name": "Python 3 (ipykernel)",
   "language": "python",
   "name": "python3"
  },
  "language_info": {
   "codemirror_mode": {
    "name": "ipython",
    "version": 3
   },
   "file_extension": ".py",
   "mimetype": "text/x-python",
   "name": "python",
   "nbconvert_exporter": "python",
   "pygments_lexer": "ipython3",
   "version": "3.9.13"
  }
 },
 "nbformat": 4,
 "nbformat_minor": 1
}
