{
 "cells": [
  {
   "cell_type": "markdown",
   "metadata": {},
   "source": [
    "# Nearest Neighbour `VS` Genetic Algorithm"
   ]
  },
  {
   "cell_type": "code",
   "execution_count": 1,
   "metadata": {
    "id": "FGy9iELatiAE"
   },
   "outputs": [],
   "source": [
    "import numpy as np\n",
    "import pandas as pd\n",
    "import matplotlib.pyplot as plt\n",
    "import math\n",
    "import random\n",
    "from matplotlib.widgets import Cursor\n",
    "%matplotlib qt"
   ]
  },
  {
   "cell_type": "code",
   "execution_count": 2,
   "metadata": {
    "colab": {
     "base_uri": "https://localhost:8080/",
     "height": 520
    },
    "id": "NZmZKmx7wFyL",
    "outputId": "2118bd2f-7583-4412-f057-6c3d9249202b"
   },
   "outputs": [],
   "source": [
    "# df = pd.read_excel(\"15-Points.xlsx\")\n",
    "# df['test']= np.array(range(1,16))\n",
    "# df"
   ]
  },
  {
   "cell_type": "code",
   "execution_count": 19,
   "metadata": {},
   "outputs": [],
   "source": [
    "def input_points ():\n",
    "    points = []\n",
    "    \n",
    "    # display a plot and wait for the user to click on num_points points\n",
    "    fig, ax = plt.subplots()\n",
    "    plt.title('Input Points')\n",
    "    plt.xlim(0, 10)\n",
    "    plt.ylim(0, 10)\n",
    "    plt.show()\n",
    "\n",
    "    cursor = Cursor(ax, horizOn=True, vertOn=True, useblit=True, color='black', linewidth=1)\n",
    "\n",
    "    # take input fro\n",
    "    while True:\n",
    "        # get the first tuple (first point)\n",
    "        point = plt.ginput(1)\n",
    "        if point:\n",
    "            point=point[0]\n",
    "        else:\n",
    "            break\n",
    "\n",
    "        points.append(point)\n",
    "        plt.plot(point[0], point[1], 'bo')\n",
    "        plt.draw()\n",
    "        \n",
    "    plt.close()\n",
    "    \n",
    "    return points"
   ]
  },
  {
   "cell_type": "code",
   "execution_count": 4,
   "metadata": {},
   "outputs": [],
   "source": [
    "def plot_tsp(data, Best_solution,Best_cost,title):\n",
    "    fig, ax = plt.subplots()\n",
    "    x = data['x']\n",
    "    y = data['y']\n",
    "    plt.scatter(x, y, color = 'b')\n",
    "    plt.title(title)\n",
    "    x_init, y_init = data[data['City']==Best_solution[0]]['x'], data[data['City']==Best_solution[0]]['y']\n",
    "    plt.scatter(x_init, y_init, color = 'red')\n",
    "    plt.text(x_init - 0.5 , y_init + 0.6 , \"Start\" , color = 'm')\n",
    "    \n",
    "\n",
    "    x = []\n",
    "    y = []\n",
    "    x.append(x_init)\n",
    "    y.append(y_init)\n",
    "    TSP_plot = plt.plot(x, y, color = 'r')\n",
    "\n",
    "    for i, city in enumerate(Best_solution[0:]):\n",
    "        city_x, city_y = data[data['City']==Best_solution[i]]['x'], data[data['City']==Best_solution[i]]['y']\n",
    "        x.append(city_x)\n",
    "        y.append(city_y)  \n",
    "        plt.setp(TSP_plot, xdata = x, ydata = y)\n",
    "        plt.pause(0.3)\n",
    "\n",
    "    x.append(x_init)\n",
    "    y.append(y_init)\n",
    "    plt.setp(TSP_plot, xdata = x, ydata = y)\n",
    "    plt.xlabel(f\"Best_cost: {round(Best_cost,5)}\" ,color = 'm')\n",
    "    plt.pause(0.3)\n",
    "#     plt.text(0.5 , 0.5 , f\"Best_cost: {round(Best_cost,5)}\" , color = 'm')\n",
    "#     plt.xlabel(f\"Best_cost: {round(Best_cost,5)}\" ,color = 'm')\n",
    "    \n",
    "    "
   ]
  },
  {
   "cell_type": "code",
   "execution_count": 5,
   "metadata": {
    "id": "1CRkyEFezklQ"
   },
   "outputs": [],
   "source": [
    "def euclidean_distance(df,c1,c2):\n",
    "    x1 = df.loc[df['City'] == c1, 'x'].iloc[0]\n",
    "    y1 = df.loc[df['City'] == c1, 'y'].iloc[0]\n",
    "    x2 = df.loc[df['City'] == c2, 'x'].iloc[0]\n",
    "    y2 = df.loc[df['City'] == c2, 'y'].iloc[0]\n",
    "    return math.sqrt((x2 - x1) ** 2 + (y2 - y1) ** 2)"
   ]
  },
  {
   "cell_type": "code",
   "execution_count": 6,
   "metadata": {},
   "outputs": [],
   "source": [
    "def distance(df):\n",
    "    count = len(df)\n",
    "    dist_arr = np.zeros((count,count))\n",
    "    for c1 in range(0,count-1):\n",
    "        for c2 in range(c1+1,count):\n",
    "            dist_arr[c1,c2]= euclidean_distance(df,c1,c2)\n",
    "            dist_arr[c2,c1] =dist_arr[c1,c2]\n",
    "\n",
    "        dist_arr[c1,c1] = np.inf\n",
    "    dist_arr[c1+1,c1+1] = np.inf\n",
    "\n",
    "    return dist_arr"
   ]
  },
  {
   "cell_type": "code",
   "execution_count": 7,
   "metadata": {},
   "outputs": [],
   "source": [
    "#########################  Genetic Algorithm ##################################"
   ]
  },
  {
   "cell_type": "code",
   "execution_count": 8,
   "metadata": {
    "id": "rlQTjjzQqtca"
   },
   "outputs": [],
   "source": [
    "class Chromosome :\n",
    "    def __init__(self,chrom):\n",
    "        self.chrom = chrom\n",
    "        self.distList = []\n",
    "        self.cost = None\n",
    "\n",
    "    def evaluateFitness(self,dist_arr) :\n",
    "        self.distList = []\n",
    "        for i in range(0,len(self.chrom)-1) :\n",
    "            dist = dist_arr[self.chrom[i]][self.chrom[i+1]]\n",
    "            self.distList.append(dist)\n",
    "        self.cost = sum(self.distList)\n",
    "\n",
    "\n"
   ]
  },
  {
   "cell_type": "code",
   "execution_count": 9,
   "metadata": {
    "id": "GqgRe1HLHRbC"
   },
   "outputs": [],
   "source": [
    "#uniform Crossover\n",
    "def Crossover(crossover_list,count,dist_arr):\n",
    "    uniform = random.choices([0,1], k=count)\n",
    "    newgen = [None]*len(crossover_list)\n",
    "    for c in range(0,len(crossover_list),2):\n",
    "        newgen[c]=Chromosome(crossover_list[c].chrom)\n",
    "        newgen[c+1]=Chromosome(crossover_list[c].chrom)\n",
    "        for i in range(len(uniform)) :\n",
    "            if uniform[i] == 1:\n",
    "                newgen[c].chrom[i],newgen[c+1].chrom[i] = newgen[c+1].chrom[i] , newgen[c].chrom[i]\n",
    "        newgen[c].evaluateFitness(dist_arr)\n",
    "        newgen[c+1].evaluateFitness(dist_arr)\n",
    "\n",
    "    return newgen\n",
    "\n",
    "\n",
    "\n",
    "# Mutation\n",
    "\n",
    "def Swapping(chrom):\n",
    "    sw_ndx = random.sample(range(len(chrom)), k=2)\n",
    "    newChrom= chrom.copy()\n",
    "    newChrom[sw_ndx[0]],newChrom[sw_ndx[1]] = newChrom[sw_ndx[1]] ,newChrom[sw_ndx[0]]\n",
    "    return newChrom\n",
    "\n",
    "def Scramble(chrom):\n",
    "    left = random.randint(0, len(chrom)-2)\n",
    "    right = random.randint(left+1, len(chrom))\n",
    "    newChrom= chrom.copy()\n",
    "    new = random.sample(newChrom[left : right], len(newChrom[left : right]))\n",
    "    newChrom = np.array(newChrom)\n",
    "    newChrom[left : right] = new\n",
    "    newChrom= newChrom.tolist()\n",
    "    return newChrom\n",
    "\n",
    "def Inversion(chrom):\n",
    "    left = random.randint(0, len(chrom)-2)\n",
    "    right = random.randint(left+1, len(chrom))\n",
    "    newChrom= chrom.copy()\n",
    "    new = newChrom[left : right]\n",
    "    new.reverse()\n",
    "    newChrom = np.array(newChrom)\n",
    "    newChrom[left : right] = new\n",
    "    newChrom= newChrom.tolist()\n",
    "    return newChrom\n",
    "\n",
    "def Mutation (M_list,dist_arr):\n",
    "    newgen = [None]*len(M_list)\n",
    "    for i in range(len(M_list)) :\n",
    "        newgen[i] = Chromosome(M_list[i].chrom.copy())\n",
    "        r = random.randint(0, 3)\n",
    "        if r == 0:\n",
    "            newgen[i].chrom = Swapping(newgen[i].chrom).copy()\n",
    "        elif r == 1:\n",
    "            newgen[i].chrom = Scramble(newgen[i].chrom).copy()\n",
    "        else:\n",
    "            newgen[i].chrom = Inversion(newgen[i].chrom).copy()\n",
    "\n",
    "        newgen[i].evaluateFitness(dist_arr)\n",
    "\n",
    "    return newgen\n",
    "\n"
   ]
  },
  {
   "cell_type": "code",
   "execution_count": 10,
   "metadata": {
    "colab": {
     "base_uri": "https://localhost:8080/"
    },
    "id": "BYutCV3zjfZ3",
    "outputId": "f6795ed4-97f8-4cd1-f317-9bac7a6c21cd"
   },
   "outputs": [
    {
     "data": {
      "text/plain": [
       "[3, 4, 8, 7, 6, 5]"
      ]
     },
     "execution_count": 10,
     "metadata": {},
     "output_type": "execute_result"
    }
   ],
   "source": [
    "Inversion([3,5,6,7,8,4])"
   ]
  },
  {
   "cell_type": "code",
   "execution_count": 11,
   "metadata": {},
   "outputs": [],
   "source": [
    "def Genetic(data,pop_size, gen_count, elit, cross_num , mut_num):\n",
    "    \n",
    "    #distance\n",
    "    dist_arr = distance(data)\n",
    "    count = len(data)\n",
    "    \n",
    "    #Initial Population \n",
    "    city_n=[i for i in range(0,count)]\n",
    "    pop_list = [None]*pop_size\n",
    "    for p in range(pop_size): #Generate Chromosome \n",
    "        chrom = random.sample(city_n, k=len(data))\n",
    "        pop_list[p] = Chromosome(chrom)\n",
    "        pop_list[p].evaluateFitness(dist_arr)\n",
    "    #sort\n",
    "    pop_list = sorted(pop_list, key=lambda d: d.cost)\n",
    "    \n",
    "    # Initialization Generations\n",
    "    for i in range(gen_count):\n",
    "        next_pop = []\n",
    "\n",
    "        #select elitism\n",
    "        elit_list = pop_list[0:elit]\n",
    "\n",
    "        # Perform crossover\n",
    "        select_crossover = random.sample(pop_list, k=cross_num)\n",
    "        crossover_list = Crossover(select_crossover,count,dist_arr).copy()\n",
    "\n",
    "        # Perform mutation\n",
    "        select_Mutation = random.sample(crossover_list.copy(), k=mut_num)\n",
    "        Mutation_list = Mutation(select_Mutation,dist_arr).copy()\n",
    "\n",
    "        # select Population size\n",
    "        next_pop =  elit_list + pop_list + crossover_list + Mutation_list\n",
    "        next_pop = sorted(next_pop, key=lambda d: d.cost )\n",
    "\n",
    "        pop_list = next_pop[0:pop_size]\n",
    "\n",
    "    # Best solution\n",
    "    print(\"Best Path : \",pop_list[0].chrom)\n",
    "    print(\"Path dist : \", np.round(pop_list[0].distList , 3).tolist())\n",
    "    print(\"Best cost : \",pop_list[0].cost)\n",
    "    \n",
    "    Best_Path = pop_list[0].chrom.copy()\n",
    "    Path_dist = np.round(pop_list[0].distList.copy() , 3).tolist()\n",
    "    Best_cost = pop_list[0].cost\n",
    "    \n",
    "    plot_tsp(data, Best_Path,Best_cost,'Genetic algorithm')\n",
    "    \n",
    "    \n",
    "    return Best_Path, Path_dist,Best_cost"
   ]
  },
  {
   "cell_type": "code",
   "execution_count": 12,
   "metadata": {},
   "outputs": [],
   "source": [
    "#########################  Nearest Neighbour  ##################################"
   ]
  },
  {
   "cell_type": "code",
   "execution_count": 13,
   "metadata": {},
   "outputs": [],
   "source": [
    "def Nearest(data,start):\n",
    "    \n",
    "#     points = input_points()\n",
    "#     data = pd.DataFrame(points, columns = ['x', 'y'])\n",
    "#     data['City'] = np.random.permutation(len(points))\n",
    "    \n",
    "    dist_arr = distance(data)\n",
    "    count = len(data)\n",
    "    \n",
    "    Best_cost=0\n",
    "    Best_Path=[start]\n",
    "    Path_dist=[]\n",
    "    \n",
    "    for c in range(count-1):\n",
    "        city =Best_Path[-1]\n",
    "        dist = dist_arr[city].min()\n",
    "        Best_cost+=dist\n",
    "        new_city = dist_arr[city].argmin()\n",
    "        dist_arr[city,:]= np.inf\n",
    "        dist_arr[:,city]= np.inf\n",
    "\n",
    "        Best_Path.append(new_city)\n",
    "        Path_dist.append(dist)\n",
    "\n",
    "\n",
    "\n",
    "    print(\"Best Path : \",Best_Path)\n",
    "    print(\"Path dist : \", Path_dist)\n",
    "    print(\"Best cost : \",Best_cost)\n",
    "    \n",
    "    plot_tsp(data, Best_Path,Best_cost,'Nearest Neighbour')\n",
    "    \n",
    "    return Best_Path, Path_dist , Best_cost\n",
    "    "
   ]
  },
  {
   "cell_type": "code",
   "execution_count": 54,
   "metadata": {},
   "outputs": [],
   "source": [
    "######################### call fun ######################"
   ]
  },
  {
   "cell_type": "code",
   "execution_count": 55,
   "metadata": {},
   "outputs": [],
   "source": [
    "points = input_points()\n",
    "data = pd.DataFrame(points, columns = ['x', 'y'])\n",
    "data['City'] = np.random.permutation(len(points))"
   ]
  },
  {
   "cell_type": "code",
   "execution_count": 56,
   "metadata": {},
   "outputs": [
    {
     "name": "stdout",
     "output_type": "stream",
     "text": [
      "Best Path :  [0, 12, 2, 8, 16, 9, 14, 13, 3, 4, 6, 1, 11, 7, 15, 10, 5]\n",
      "Path dist :  [2.011788107965596, 2.3118273918943926, 1.9153225806451615, 1.8471680907267507, 1.9365067672931584, 2.028250830917722, 1.7927446849118747, 3.418458286174299, 2.5520866098217696, 2.1734428252979154, 1.475913758042178, 0.0, 1.7455460217371468, 2.224469788019616, 1.1156093286121191, 4.584022018072745]\n",
      "Best cost :  33.13315709013245\n"
     ]
    }
   ],
   "source": [
    "#Nearest Neighbour parameters\n",
    "start =0\n",
    "Best_Path, Path_dist,Best_cost= Nearest(data,start)"
   ]
  },
  {
   "cell_type": "code",
   "execution_count": 57,
   "metadata": {},
   "outputs": [],
   "source": [
    "# print()"
   ]
  },
  {
   "cell_type": "code",
   "execution_count": 58,
   "metadata": {
    "id": "YzpjFfROwHY5"
   },
   "outputs": [
    {
     "name": "stdout",
     "output_type": "stream",
     "text": [
      "Best Path :  [9, 16, 8, 2, 0, 12, 10, 15, 7, 11, 1, 6, 5, 4, 3, 14, 13]\n",
      "Path dist :  [1.937, 1.847, 1.915, 2.449, 2.012, 3.131, 1.116, 2.224, 1.746, 0.0, 1.476, 1.746, 2.517, 2.552, 1.921, 1.793]\n",
      "Best cost :  30.380704534297163\n"
     ]
    }
   ],
   "source": [
    "#Genetic algorithm parameters\n",
    "pop_size= 100 \n",
    "gen_count=200 \n",
    "elit = 3\n",
    "cross_num = 30\n",
    "mut_num = 8\n",
    "\n",
    "Best_Path, Path_dist,Best_cost= Genetic(data,pop_size, gen_count, elit, cross_num , mut_num)"
   ]
  },
  {
   "cell_type": "code",
   "execution_count": null,
   "metadata": {},
   "outputs": [],
   "source": []
  }
 ],
 "metadata": {
  "colab": {
   "provenance": []
  },
  "kernelspec": {
   "display_name": "Python 3 (ipykernel)",
   "language": "python",
   "name": "python3"
  },
  "language_info": {
   "codemirror_mode": {
    "name": "ipython",
    "version": 3
   },
   "file_extension": ".py",
   "mimetype": "text/x-python",
   "name": "python",
   "nbconvert_exporter": "python",
   "pygments_lexer": "ipython3",
   "version": "3.9.13"
  }
 },
 "nbformat": 4,
 "nbformat_minor": 1
}
